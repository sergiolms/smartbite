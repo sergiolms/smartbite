{
  "nbformat": 4,
  "nbformat_minor": 0,
  "metadata": {
    "colab": {
      "provenance": [],
      "include_colab_link": true
    },
    "kernelspec": {
      "name": "python3",
      "display_name": "Python 3"
    },
    "language_info": {
      "name": "python"
    }
  },
  "cells": [
    {
      "cell_type": "markdown",
      "metadata": {
        "id": "view-in-github",
        "colab_type": "text"
      },
      "source": [
        "<a href=\"https://colab.research.google.com/github/sergiolms/smartbite/blob/main/google-collab/Smartbite.ipynb\" target=\"_parent\"><img src=\"https://colab.research.google.com/assets/colab-badge.svg\" alt=\"Open In Colab\"/></a>"
      ]
    },
    {
      "cell_type": "code",
      "execution_count": null,
      "metadata": {
        "id": "gN9hIj_P3OaE"
      },
      "outputs": [],
      "source": [
        "# Titulo"
      ]
    },
    {
      "cell_type": "code",
      "source": [
        "print(\"ada\")"
      ],
      "metadata": {
        "id": "x9FXjyqg5NEg"
      },
      "execution_count": null,
      "outputs": []
    }
  ]
}